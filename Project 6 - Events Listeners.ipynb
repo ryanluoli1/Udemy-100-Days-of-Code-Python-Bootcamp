{
 "cells": [
  {
   "cell_type": "markdown",
   "metadata": {},
   "source": [
    "# Project 6 - Events Listeners"
   ]
  },
  {
   "cell_type": "markdown",
   "metadata": {},
   "source": [
    "https://docs.python.org/3/library/turtle.html"
   ]
  },
  {
   "cell_type": "code",
   "execution_count": 15,
   "metadata": {},
   "outputs": [],
   "source": [
    "import numpy as np\n",
    "from turtle import Turtle, Screen"
   ]
  },
  {
   "cell_type": "markdown",
   "metadata": {},
   "source": [
    "## Etch A Sketch"
   ]
  },
  {
   "cell_type": "code",
   "execution_count": 16,
   "metadata": {},
   "outputs": [],
   "source": [
    "def move_forward():\n",
    "    timmy.forward(10)\n",
    "def move_backward():\n",
    "    timmy.backward(10)\n",
    "def clockwise():\n",
    "    timmy.setheading(timmy.heading()+10)\n",
    "def anti_clockwise():\n",
    "    timmy.setheading(timmy.heading()-10)\n",
    "def clear():\n",
    "    timmy.clear()\n",
    "    timmy.penup()\n",
    "    timmy.home()\n",
    "    timmy.pendown()"
   ]
  },
  {
   "cell_type": "code",
   "execution_count": 18,
   "metadata": {},
   "outputs": [],
   "source": [
    "timmy = Turtle()\n",
    "timmy.shape('turtle')\n",
    "screen = Screen()\n",
    "screen.listen()\n",
    "screen.onkey(key='w',fun=move_forward)\n",
    "screen.onkey(key='s',fun=move_backward)\n",
    "screen.onkey(key='d',fun=clockwise)\n",
    "screen.onkey(key='a',fun=anti_clockwise)\n",
    "screen.onkey(key='c',fun=clear)\n",
    "screen.exitonclick()"
   ]
  },
  {
   "cell_type": "markdown",
   "metadata": {},
   "source": [
    "## Turtule Race"
   ]
  },
  {
   "cell_type": "code",
   "execution_count": 19,
   "metadata": {},
   "outputs": [],
   "source": [
    "from turtle import Turtle, Screen"
   ]
  },
  {
   "cell_type": "code",
   "execution_count": 28,
   "metadata": {},
   "outputs": [
    {
     "name": "stdout",
     "output_type": "stream",
     "text": [
      "Winner is the red turtle!\n",
      "You win!\n"
     ]
    }
   ],
   "source": [
    "screen = Screen()\n",
    "screen.setup(500,400)\n",
    "color = ['red','green','blue','orange','purple']\n",
    "turtles = []\n",
    "for i in range(5):\n",
    "    timmy = Turtle()\n",
    "    timmy.shape('turtle')\n",
    "    timmy.color(color[i])\n",
    "    timmy.penup()\n",
    "    timmy.goto(-230,100-50*i)\n",
    "    turtles.append(timmy)  \n",
    "    \n",
    "user_bet = screen.textinput(title='Make your bet',prompt='Which turtle will win the race? Enter a color: ')\n",
    "if user_bet:\n",
    "    race_on = True\n",
    "while race_on is True:\n",
    "    for turtle in turtles:\n",
    "        if turtle.xcor() > 210:\n",
    "            race_on = False\n",
    "            print(f'Winner is the {turtle.pencolor()} turtle!')\n",
    "            if turtle.pencolor() == user_bet: print('You win!')\n",
    "            else: print('You lose!')\n",
    "        d = np.random.randint(0,10)\n",
    "        turtle.forward(d)\n",
    "screen.exitonclick()"
   ]
  }
 ],
 "metadata": {
  "kernelspec": {
   "display_name": "Python 3",
   "language": "python",
   "name": "python3"
  },
  "language_info": {
   "codemirror_mode": {
    "name": "ipython",
    "version": 3
   },
   "file_extension": ".py",
   "mimetype": "text/x-python",
   "name": "python",
   "nbconvert_exporter": "python",
   "pygments_lexer": "ipython3",
   "version": "3.8.5"
  }
 },
 "nbformat": 4,
 "nbformat_minor": 4
}
