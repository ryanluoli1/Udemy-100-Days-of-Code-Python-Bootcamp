{
 "cells": [
  {
   "cell_type": "markdown",
   "metadata": {},
   "source": [
    "# Project 4 - Quiz Project"
   ]
  },
  {
   "cell_type": "code",
   "execution_count": 1,
   "metadata": {},
   "outputs": [],
   "source": [
    "question_data = [\n",
    "{\"text\": \"A slug's blood is green.\", \"answer\": \"True\"},\n",
    "{\"text\": \"The loudest animal is the African Elephant.\", \"answer\": \"False\"},\n",
    "{\"text\": \"Approximately one quarter of human bones are in the feet.\", \"answer\": \"True\"},\n",
    "{\"text\": \"The total surface area of a human lungs is the size of a football pitch.\", \"answer\": \"True\"},\n",
    "{\"text\": \"In West Virginia, USA, if you accidentally hit an animal with your car, you are free to take it home to eat.\", \"answer\": \"True\"},\n",
    "{\"text\": \"In London, UK, if you happen to die in the House of Parliament, you are entitled to a state funeral.\", \"answer\": \"False\"},\n",
    "{\"text\": \"It is illegal to pee in the Ocean in Portugal.\", \"answer\": \"True\"},\n",
    "{\"text\": \"You can lead a cow down stairs but not up stairs.\", \"answer\": \"False\"},\n",
    "{\"text\": \"Google was originally called 'Backrub'.\", \"answer\": \"True\"},\n",
    "{\"text\": \"Buzz Aldrin's mother's maiden name was 'Moon'.\", \"answer\": \"True\"},\n",
    "{\"text\": \"No piece of square dry paper can be folded in half more than 7 times.\", \"answer\": \"False\"},\n",
    "{\"text\": \"A few ounces of chocolate can to kill a small dog.\", \"answer\": \"True\"}\n",
    "]"
   ]
  },
  {
   "cell_type": "code",
   "execution_count": 5,
   "metadata": {},
   "outputs": [],
   "source": [
    "question_bank = []\n",
    "for data in question_data:\n",
    "    question_bank.append(Question(data['text'],data['answer']))"
   ]
  },
  {
   "cell_type": "code",
   "execution_count": 4,
   "metadata": {},
   "outputs": [],
   "source": [
    "class Question:\n",
    "    def __init__(self,q_txt,q_ans):\n",
    "        self.text = q_txt\n",
    "        self.answer = q_ans"
   ]
  },
  {
   "cell_type": "code",
   "execution_count": 39,
   "metadata": {},
   "outputs": [],
   "source": [
    "class Quiz:\n",
    "    def __init__(self,question_bank):\n",
    "        self.score = 0\n",
    "        self.question_number = 0\n",
    "        self.question_list = question_bank\n",
    "    def still_have_question(self):\n",
    "        return self.question_number < len(self.question_list)\n",
    "    def ask_question(self):\n",
    "        question = self.question_list[self.question_number]\n",
    "        ans = input(f'Q.{self.question_number+1} {question.text} (True/Flase)')\n",
    "        if ans == question.answer: self.score += 1\n",
    "        print(f'Current Score: {self.score}')\n",
    "        self.question_number += 1"
   ]
  },
  {
   "cell_type": "code",
   "execution_count": 40,
   "metadata": {},
   "outputs": [],
   "source": [
    "quiz = Quiz(question_bank)"
   ]
  },
  {
   "cell_type": "code",
   "execution_count": 41,
   "metadata": {},
   "outputs": [
    {
     "name": "stdout",
     "output_type": "stream",
     "text": [
      "Q.1 A slug's blood is green. (True/Flase)True\n",
      "Current Score: 1\n",
      "Q.2 The loudest animal is the African Elephant. (True/Flase)False\n",
      "Current Score: 2\n",
      "Q.3 Approximately one quarter of human bones are in the feet. (True/Flase)True\n",
      "Current Score: 3\n",
      "Q.4 The total surface area of a human lungs is the size of a football pitch. (True/Flase)True\n",
      "Current Score: 4\n",
      "Q.5 In West Virginia, USA, if you accidentally hit an animal with your car, you are free to take it home to eat. (True/Flase)True\n",
      "Current Score: 5\n",
      "Q.6 In London, UK, if you happen to die in the House of Parliament, you are entitled to a state funeral. (True/Flase)False\n",
      "Current Score: 6\n",
      "Q.7 It is illegal to pee in the Ocean in Portugal. (True/Flase)False\n",
      "Current Score: 6\n",
      "Q.8 You can lead a cow down stairs but not up stairs. (True/Flase)False\n",
      "Current Score: 7\n",
      "Q.9 Google was originally called 'Backrub'. (True/Flase)True\n",
      "Current Score: 8\n",
      "Q.10 Buzz Aldrin's mother's maiden name was 'Moon'. (True/Flase)True\n",
      "Current Score: 9\n",
      "Q.11 No piece of square dry paper can be folded in half more than 7 times. (True/Flase)False\n",
      "Current Score: 10\n",
      "Q.12 A few ounces of chocolate can to kill a small dog. (True/Flase)False\n",
      "Current Score: 10\n"
     ]
    }
   ],
   "source": [
    "while quiz.still_have_question():\n",
    "    quiz.ask_question()"
   ]
  }
 ],
 "metadata": {
  "kernelspec": {
   "display_name": "Python 3",
   "language": "python",
   "name": "python3"
  },
  "language_info": {
   "codemirror_mode": {
    "name": "ipython",
    "version": 3
   },
   "file_extension": ".py",
   "mimetype": "text/x-python",
   "name": "python",
   "nbconvert_exporter": "python",
   "pygments_lexer": "ipython3",
   "version": "3.8.5"
  }
 },
 "nbformat": 4,
 "nbformat_minor": 4
}
