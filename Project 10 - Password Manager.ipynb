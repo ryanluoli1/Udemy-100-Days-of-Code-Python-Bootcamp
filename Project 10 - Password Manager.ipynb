{
 "cells": [
  {
   "cell_type": "markdown",
   "metadata": {},
   "source": [
    "# Project 10 - Password Manager"
   ]
  },
  {
   "cell_type": "code",
   "execution_count": 87,
   "metadata": {},
   "outputs": [],
   "source": [
    "import json\n",
    "import pyperclip\n",
    "from tkinter import *\n",
    "from tkinter import messagebox"
   ]
  },
  {
   "cell_type": "code",
   "execution_count": 3,
   "metadata": {},
   "outputs": [],
   "source": [
    "PINK = \"#e2979c\"\n",
    "RED = \"#e7305b\"\n",
    "GREEN = \"#9bdeac\"\n",
    "YELLOW = \"#f7f5dd\"\n",
    "FONT_NAME = \"Courier\""
   ]
  },
  {
   "cell_type": "code",
   "execution_count": 90,
   "metadata": {},
   "outputs": [],
   "source": [
    "img = 'C:\\\\Users\\\\ryanl\\\\OneDrive\\\\Desktop\\\\Python\\\\100 Days Challenge\\\\Files\\\\logo.png'\n",
    "pw_file = 'C:\\\\Users\\\\ryanl\\\\OneDrive\\\\Desktop\\\\Python\\\\100 Days Challenge\\\\Files\\\\passwords.json'"
   ]
  },
  {
   "cell_type": "code",
   "execution_count": 101,
   "metadata": {},
   "outputs": [],
   "source": [
    "def save():\n",
    "    website = web_input.get()\n",
    "    user = user_input.get()\n",
    "    pw = pw_input.get()\n",
    "    if len(website) == 0 or len(user) == 0 or len(pw) == 0:\n",
    "        messagebox.showinfo(title='Error', message='Please make sure no fields are left empty!')\n",
    "    else:\n",
    "        new_data = {\n",
    "            website: {\n",
    "                'user': user,\n",
    "                'password': pw,\n",
    "            }\n",
    "        }\n",
    "        try:\n",
    "            with open(pw_file, 'r') as file:\n",
    "                data = json.load(file)\n",
    "                data.update(new_data)\n",
    "        except FileNotFoundError:\n",
    "            with open(pw_file, 'w') as file:\n",
    "                json.dump(new_data, file, indent=4)\n",
    "        else:\n",
    "            with open(pw_file, 'w') as file:\n",
    "                json.dump(data, file, indent=4)\n",
    "        finally:\n",
    "            messagebox.showinfo(title='Result', message='Password saved!')\n",
    "            user_input.delete(0, END)\n",
    "            web_input.delete(0, END)\n",
    "            pw_input.delete(0, END)\n",
    "        \n",
    "def search():\n",
    "    website = web_input.get()\n",
    "    with open(pw_file, 'r') as file:\n",
    "        data = json.load(file)\n",
    "        try:\n",
    "            password = data[website]['password']\n",
    "        except KeyError:\n",
    "            messagebox.showinfo(title='Error', message='Cannot find any result.')\n",
    "        else:\n",
    "            messagebox.showinfo(title='Password', message=password)\n",
    "            pyperclip.copy(password)"
   ]
  },
  {
   "cell_type": "code",
   "execution_count": 102,
   "metadata": {},
   "outputs": [],
   "source": [
    "window = Tk()\n",
    "window.title('Password Manager')\n",
    "window.config(padx=50, pady=50)\n",
    "\n",
    "canvas = Canvas(width=200, height=200)\n",
    "logo = PhotoImage(file=img)\n",
    "canvas.create_image(100, 100, image=logo)\n",
    "canvas.grid(row=0, column=1)\n",
    "\n",
    "web_label = Label(text='Website:       ', font=('Arial',10,'bold'))\n",
    "web_label.grid(row=1, column=0)\n",
    "user_label = Label(text='User:            ', font=('Arial',10,'bold'))\n",
    "user_label.grid(row=2, column=0)\n",
    "pw_label = Label(text='Password:     ', font=('Arial',10,'bold'))\n",
    "pw_label.grid(row=3, column=0)\n",
    "\n",
    "web_input = Entry(width=35)\n",
    "web_input.grid(row=1, column=1, columnspan=2)\n",
    "web_input.focus()\n",
    "user_input = Entry(width=35)\n",
    "user_input.grid(row=2, column=1, columnspan=2)\n",
    "pw_input = Entry(width=35)\n",
    "pw_input.grid(row=3, column=1, columnspan=2)\n",
    "\n",
    "search_button = Button(text='search',font=('Arial',10,'bold'), command=search, width=10)\n",
    "search_button.grid(row=1, column=3)\n",
    "save_button = Button(text='save',font=('Arial',10,'bold'), command=save, width=10)\n",
    "save_button.grid(row=3, column=3)\n",
    "\n",
    "window.mainloop()"
   ]
  }
 ],
 "metadata": {
  "kernelspec": {
   "display_name": "Python 3",
   "language": "python",
   "name": "python3"
  },
  "language_info": {
   "codemirror_mode": {
    "name": "ipython",
    "version": 3
   },
   "file_extension": ".py",
   "mimetype": "text/x-python",
   "name": "python",
   "nbconvert_exporter": "python",
   "pygments_lexer": "ipython3",
   "version": "3.8.5"
  }
 },
 "nbformat": 4,
 "nbformat_minor": 4
}
