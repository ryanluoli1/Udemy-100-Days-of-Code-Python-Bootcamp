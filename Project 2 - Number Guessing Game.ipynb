{
 "cells": [
  {
   "cell_type": "markdown",
   "metadata": {},
   "source": [
    "# Project 2 - Number Guessing Game"
   ]
  },
  {
   "cell_type": "code",
   "execution_count": 1,
   "metadata": {},
   "outputs": [],
   "source": [
    "import numpy as np"
   ]
  },
  {
   "cell_type": "code",
   "execution_count": 12,
   "metadata": {},
   "outputs": [],
   "source": [
    "def game():\n",
    "    print('Welcome to the Number Guessing Game!')\n",
    "    print('I am thinking of a number between 1 and 100.')\n",
    "    num = np.random.choice(100) + 1\n",
    "    n = 10\n",
    "    print(f'You have {n} attempts.')\n",
    "    guess = int(input('Make a guess: '))\n",
    "    while guess != num and n > 0: \n",
    "        if guess < num: print('Too low!')\n",
    "        elif guess > num: print('Too high!')\n",
    "        n -= 1\n",
    "        print(f'You have {n} attempts.')\n",
    "        guess = int(input('Make a guess: '))\n",
    "    if guess == num: print('You are right!')\n",
    "    else: print('You lose!')"
   ]
  },
  {
   "cell_type": "code",
   "execution_count": 13,
   "metadata": {},
   "outputs": [
    {
     "name": "stdout",
     "output_type": "stream",
     "text": [
      "Welcome to the Number Guessing Game!\n",
      "I am thinking of a number between 1 and 100.\n",
      "You have 10 attempts.\n",
      "Make a guess: 20\n",
      "Too low!\n",
      "You have 9 attempts.\n",
      "Make a guess: 50\n",
      "Too low!\n",
      "You have 8 attempts.\n",
      "Make a guess: 70\n",
      "Too low!\n",
      "You have 7 attempts.\n",
      "Make a guess: 80\n",
      "Too high!\n",
      "You have 6 attempts.\n",
      "Make a guess: 75\n",
      "Too high!\n",
      "You have 5 attempts.\n",
      "Make a guess: 74\n",
      "You are right!\n"
     ]
    }
   ],
   "source": [
    "game()"
   ]
  }
 ],
 "metadata": {
  "kernelspec": {
   "display_name": "Python 3",
   "language": "python",
   "name": "python3"
  },
  "language_info": {
   "codemirror_mode": {
    "name": "ipython",
    "version": 3
   },
   "file_extension": ".py",
   "mimetype": "text/x-python",
   "name": "python",
   "nbconvert_exporter": "python",
   "pygments_lexer": "ipython3",
   "version": "3.8.5"
  }
 },
 "nbformat": 4,
 "nbformat_minor": 4
}
