{
 "cells": [
  {
   "cell_type": "markdown",
   "metadata": {},
   "source": [
    "# Project 11 - Happy Birthday Email Sender"
   ]
  },
  {
   "cell_type": "markdown",
   "metadata": {},
   "source": [
    "## SMTP - Simple Mail Transport Protocol"
   ]
  },
  {
   "cell_type": "code",
   "execution_count": 4,
   "metadata": {},
   "outputs": [],
   "source": [
    "import smtplib"
   ]
  },
  {
   "cell_type": "code",
   "execution_count": 5,
   "metadata": {},
   "outputs": [],
   "source": [
    "my_email = 'zceeidx@ucl.ac.uk'\n",
    "target_email = 'ryanluoli@163.com'"
   ]
  },
  {
   "cell_type": "code",
   "execution_count": 6,
   "metadata": {},
   "outputs": [],
   "source": [
    "message = '''Subject: This is a test email. \\n\\n \n",
    "             This is the content'''"
   ]
  },
  {
   "cell_type": "code",
   "execution_count": 10,
   "metadata": {},
   "outputs": [],
   "source": [
    "with smtplib.SMTP('outlook.office365.com') as connection:\n",
    "    connection.starttls()\n",
    "    connection.login(user=my_email, password='Ryan@141207@3')\n",
    "    connection.sendmail(from_addr=my_email, to_addrs=target_email, msg=message)"
   ]
  },
  {
   "cell_type": "markdown",
   "metadata": {},
   "source": [
    "## Datetime Module"
   ]
  },
  {
   "cell_type": "code",
   "execution_count": 14,
   "metadata": {},
   "outputs": [],
   "source": [
    "from datetime import datetime"
   ]
  },
  {
   "cell_type": "code",
   "execution_count": 27,
   "metadata": {},
   "outputs": [
    {
     "name": "stdout",
     "output_type": "stream",
     "text": [
      "2021-12-25 13:31:03.128776\n",
      "2021\n",
      "12\n"
     ]
    }
   ],
   "source": [
    "now = datetime.now()\n",
    "print(now)\n",
    "print(now.year)\n",
    "print(now.month)"
   ]
  },
  {
   "cell_type": "code",
   "execution_count": 26,
   "metadata": {},
   "outputs": [
    {
     "name": "stdout",
     "output_type": "stream",
     "text": [
      "Saturday\n"
     ]
    }
   ],
   "source": [
    "day_of_week = now.weekday()\n",
    "weekday = ['Monday', 'Tuesday', 'Wednesday', 'Thursday', 'Friday', 'Saturday', 'Sunday']\n",
    "print(weekday[day_of_week])"
   ]
  },
  {
   "cell_type": "code",
   "execution_count": 28,
   "metadata": {},
   "outputs": [],
   "source": [
    "date_of_birth = datetime(year=2000, month=11, day=24)"
   ]
  },
  {
   "cell_type": "markdown",
   "metadata": {},
   "source": [
    "## Birthday Emial Sender"
   ]
  },
  {
   "cell_type": "code",
   "execution_count": 224,
   "metadata": {},
   "outputs": [],
   "source": [
    "import json\n",
    "import pyperclip\n",
    "import numpy as np\n",
    "from tkinter import *\n",
    "from tkinter import messagebox"
   ]
  },
  {
   "cell_type": "code",
   "execution_count": 225,
   "metadata": {},
   "outputs": [],
   "source": [
    "bday_file = 'C:\\\\Users\\\\ryanl\\\\OneDrive\\\\Desktop\\\\Python\\\\100 Days Challenge\\\\Files\\\\birthdays.json'"
   ]
  },
  {
   "cell_type": "code",
   "execution_count": 230,
   "metadata": {},
   "outputs": [],
   "source": [
    "def save():\n",
    "    name = name_input.get()\n",
    "    year = year_input.get()\n",
    "    month = month_input.get()\n",
    "    day = day_input.get()\n",
    "    email = email_input.get()\n",
    "    if len(name) == 0 or len(year) == 0 or len(month) == 0 or len(day) == 0:\n",
    "        messagebox.showinfo(title='Error', message='Please make sure no fields are left empty!')\n",
    "    else:\n",
    "        new_data = {\n",
    "            name: {\n",
    "                'year': year,\n",
    "                'month': month,\n",
    "                'day': day,\n",
    "                'email': email,\n",
    "            }\n",
    "        }\n",
    "        try:\n",
    "            with open(bday_file, 'r') as file:\n",
    "                data = json.load(file)\n",
    "                data.update(new_data)\n",
    "        except FileNotFoundError:\n",
    "            with open(bday_file, 'w') as file:\n",
    "                json.dump(new_data, file, indent=4)\n",
    "        else:\n",
    "            with open(bday_file, 'w') as file:\n",
    "                json.dump(data, file, indent=4)\n",
    "        finally:\n",
    "            messagebox.showinfo(title='Result', message='Birthday saved!')\n",
    "            name_input.delete(0, END)\n",
    "            year_input.delete(0, END)\n",
    "            month_input.delete(0, END)\n",
    "            day_input.delete(0, END)\n",
    "        \n",
    "def name_search():\n",
    "    name = name_input.get()\n",
    "    with open(bday_file, 'r') as file:\n",
    "        data = json.load(file)\n",
    "        try:\n",
    "            year = data[name]['year']\n",
    "            month = data[name]['month']\n",
    "            day = data[name]['day']\n",
    "            date_of_birth = year + '-' + month + '-' + day\n",
    "        except KeyError:\n",
    "            messagebox.showinfo(title='Error', message='Cannot find any result.')\n",
    "        else:\n",
    "            messagebox.showinfo(title='Birthday', message=date_of_birth)\n",
    "            \n",
    "def year_search():\n",
    "    year = year_input.get()\n",
    "    result = []\n",
    "    with open(bday_file, 'r') as file:\n",
    "        data = json.load(file)\n",
    "        for item in data:\n",
    "            if data[item]['year'] == year:\n",
    "                info = f\"{item}: {year}-{data[item]['month']}-{data[item]['day']}\"\n",
    "                result.append(info)\n",
    "        if len(result) == 0:\n",
    "            messagebox.showinfo(title='Error', message='Cannot find any result.')\n",
    "        else:\n",
    "            messagebox.showinfo(title=f'Borned in {year}', message=result)\n",
    "            \n",
    "def month_search():\n",
    "    month = month_input.get()\n",
    "    result = []\n",
    "    with open(bday_file, 'r') as file:\n",
    "        data = json.load(file)\n",
    "        for item in data:\n",
    "            if data[item]['month'] == month:\n",
    "                info = f\"{item}: {data[item]['year']}-{month}-{data[item]['day']}\"\n",
    "                result.append(info)\n",
    "        if len(result) == 0:\n",
    "            messagebox.showinfo(title='Error', message='Cannot find any result.')\n",
    "        else:\n",
    "            months = ['January','Feburary','March','April','May','June','July','August','September','October','November','December']\n",
    "            messagebox.showinfo(title=f'Borned in {months[int(month)-1]}', message=result)\n",
    "\n",
    "def search():\n",
    "    year = int(datetime.now().year)\n",
    "    month = int(datetime.now().month)\n",
    "    day = int(datetime.now().day)\n",
    "    result = []; info = ''; target = []\n",
    "    with open(bday_file, 'r') as file:\n",
    "        data = json.load(file)\n",
    "        for item in data:\n",
    "            if int(data[item]['year']) == year and int(data[item]['month']) == month and int(data[item]['day']) == day:\n",
    "                name = item\n",
    "                result.append(name)\n",
    "        if len(result) == 0:\n",
    "            info = 'No one'\n",
    "        else:\n",
    "            for name in result:\n",
    "                info += name + ' '\n",
    "        today_label.config(text=info)\n",
    "\n",
    "def send():\n",
    "    message = '''Subject: Happy birthday!!! \\n\\n \n",
    "                 Hope you have a great birthday.'''\n",
    "    with smtplib.SMTP('outlook.office365.com') as connection:\n",
    "        connection.starttls()\n",
    "        connection.login(user=my_email, password='Ryan@141207@3')\n",
    "        connection.sendmail(from_addr='zceeidx@ucl.ac.uk', to_addrs='ryanluoli@163.com', msg=message)\n",
    "    messagebox.showinfo(title='Result', message='Sent!')"
   ]
  },
  {
   "cell_type": "code",
   "execution_count": 231,
   "metadata": {},
   "outputs": [],
   "source": [
    "window = Tk()\n",
    "window.title('Birthday Email Sender')\n",
    "window.config(padx=50, pady=50)\n",
    "\n",
    "name_label = Label(text='Name:    ', font=('Arial',10,'bold'))\n",
    "name_label.grid(row=1, column=0)\n",
    "year_label = Label(text='Year:      ', font=('Arial',10,'bold'))\n",
    "year_label.grid(row=2, column=0)\n",
    "month_label = Label(text='Month:   ', font=('Arial',10,'bold'))\n",
    "month_label.grid(row=3, column=0)\n",
    "day_label = Label(text='Date:     ', font=('Arial',10,'bold'))\n",
    "day_label.grid(row=4, column=0)\n",
    "email_label = Label(text='Email:   ', font=('Arial',10,'bold'))\n",
    "email_label.grid(row=5, column=0)\n",
    "today_label = Label(text=f'People whose birthday is today {datetime.now().year}-{datetime.now().month}-{datetime.now().day}:      ', font=('Arial',10,'bold'))\n",
    "today_label.grid(row=6, column=0, columnspan=2)\n",
    "today_label = Label(text=f'', font=('Arial',10,'bold'))\n",
    "today_label.grid(row=7, column=1, columnspan=2)\n",
    "\n",
    "name_input = Entry(width=35)\n",
    "name_input.grid(row=1, column=1, columnspan=2)\n",
    "name_input.focus()\n",
    "year_input = Entry(width=35)\n",
    "year_input.grid(row=2, column=1, columnspan=2)\n",
    "month_input = Entry(width=35)\n",
    "month_input.grid(row=3, column=1, columnspan=2)\n",
    "day_input = Entry(width=35)\n",
    "day_input.grid(row=4, column=1, columnspan=2)\n",
    "email_input = Entry(width=35)\n",
    "email_input.grid(row=5, column=1, columnspan=2)\n",
    "\n",
    "\n",
    "name_search_button = Button(text='search',font=('Arial',10,'bold'), command=name_search, width=10)\n",
    "name_search_button.grid(row=1, column=3)\n",
    "year_search_button = Button(text='search',font=('Arial',10,'bold'), command=year_search, width=10)\n",
    "year_search_button.grid(row=2, column=3)\n",
    "month_search_button = Button(text='search',font=('Arial',10,'bold'), command=month_search, width=10)\n",
    "month_search_button.grid(row=3, column=3)\n",
    "save_button = Button(text='save',font=('Arial',10,'bold'), command=save, width=10)\n",
    "save_button.grid(row=5, column=3)\n",
    "search_button = Button(text='search',font=('Arial',10,'bold'), command=search, width=10)\n",
    "search_button.grid(row=6, column=3, columnspan=2)\n",
    "send_button = Button(text='Send Email',font=('Arial',10,'bold'), command=send, width=10)\n",
    "send_button.grid(row=7, column=3)\n",
    "\n",
    "\n",
    "window.mainloop()"
   ]
  }
 ],
 "metadata": {
  "kernelspec": {
   "display_name": "Python 3",
   "language": "python",
   "name": "python3"
  },
  "language_info": {
   "codemirror_mode": {
    "name": "ipython",
    "version": 3
   },
   "file_extension": ".py",
   "mimetype": "text/x-python",
   "name": "python",
   "nbconvert_exporter": "python",
   "pygments_lexer": "ipython3",
   "version": "3.8.5"
  }
 },
 "nbformat": 4,
 "nbformat_minor": 4
}
