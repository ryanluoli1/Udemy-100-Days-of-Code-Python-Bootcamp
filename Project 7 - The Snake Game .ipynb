{
 "cells": [
  {
   "cell_type": "markdown",
   "metadata": {},
   "source": [
    "# Project 7 - The Snake Game "
   ]
  },
  {
   "cell_type": "markdown",
   "metadata": {},
   "source": [
    "https://docs.python.org/3/library/turtle.html"
   ]
  },
  {
   "cell_type": "code",
   "execution_count": 1,
   "metadata": {},
   "outputs": [],
   "source": [
    "import time\n",
    "import numpy as np\n",
    "from turtle import Turtle, Screen"
   ]
  },
  {
   "cell_type": "code",
   "execution_count": 2,
   "metadata": {},
   "outputs": [],
   "source": [
    "class Snake():\n",
    "    def __init__(self):\n",
    "        self.segments = []\n",
    "        self.create_snake() \n",
    "    def create_snake(self):\n",
    "        initial_positions = [(0,0),(-20,0),(-40,0)]\n",
    "        for p in initial_positions:\n",
    "            self.add_segment(p)     \n",
    "        self.head = self.segments[0] \n",
    "    def move(self):\n",
    "        for i in range(len(self.segments)-1,0,-1):\n",
    "            new_x = self.segments[i-1].xcor()\n",
    "            new_y = self.segments[i-1].ycor()\n",
    "            self.segments[i].goto(new_x,new_y)\n",
    "        self.head.forward(20)   \n",
    "    def Up(self):\n",
    "        if self.head.heading() != 270: self.head.setheading(90)\n",
    "    def Down(self):\n",
    "        if self.head.heading() != 90: self.head.setheading(270)       \n",
    "    def Left(self):\n",
    "        if self.head.heading() != 0: self.head.setheading(180)      \n",
    "    def Right(self):\n",
    "        if self.head.heading() != 180: self.head.setheading(0)\n",
    "    def add_segment(self, position):\n",
    "        segment = Turtle()\n",
    "        segment.shape('square')\n",
    "        segment.color('white')\n",
    "        segment.penup()\n",
    "        segment.goto(position)\n",
    "        self.segments.append(segment) \n",
    "    def extend(self):\n",
    "        self.add_segment(self.segments[-1].position())\n",
    "    def reset(self):\n",
    "        for segment in self.segments:\n",
    "            segment.goto(1000,1000)\n",
    "        self.segments.clear()\n",
    "        self.create_snake()"
   ]
  },
  {
   "cell_type": "code",
   "execution_count": 3,
   "metadata": {},
   "outputs": [],
   "source": [
    "class Food(Turtle):\n",
    "    def __init__(self):\n",
    "        super().__init__()\n",
    "        self.shape('circle')\n",
    "        self.penup()\n",
    "        self.shapesize(0.5,0.5)\n",
    "        self.color('blue')\n",
    "        self.speed('fastest')\n",
    "        self.refresh()\n",
    "    def refresh(self):\n",
    "        random_x = np.random.randint(-280,280)\n",
    "        random_y = np.random.randint(-280,280)\n",
    "        self.goto(random_x,random_y)"
   ]
  },
  {
   "cell_type": "code",
   "execution_count": 4,
   "metadata": {},
   "outputs": [],
   "source": [
    "class Scoreboard(Turtle):\n",
    "    def __init__(self):\n",
    "        super().__init__()\n",
    "        self.high_score = 0\n",
    "        self.create_scoreboard(0)\n",
    "    def create_scoreboard(self,high_score):\n",
    "        self.score = 0\n",
    "        self.high_score = high_score\n",
    "        self.penup()\n",
    "        self.color('white')\n",
    "        self.hideturtle()\n",
    "        self.goto(0,50)\n",
    "        for i in [3,2,1]:\n",
    "            self.write(f'{i}', align='center', font=('Arial',20,'normal'))\n",
    "            time.sleep(1)\n",
    "            self.clear()\n",
    "        self.goto(0,280)\n",
    "        self.update_score()\n",
    "        self.replay = 'no'\n",
    "    def update_score(self):\n",
    "        self.clear()\n",
    "        self.write(f'Score: {self.score}  High Score: {self.high_score}', align='center', font=('Arial',10,'normal'))\n",
    "    def increase_score(self):\n",
    "        self.score += 1\n",
    "        self.update_score()\n",
    "    def game_over(self):\n",
    "        self.goto(0,0)\n",
    "        self.write('GAME OVER', align='center', font=('Arial',15,'normal'))\n",
    "        self.replay = screen.textinput(title='Replay',prompt='Do you want to play agian? yes/no: ')\n",
    "    def refresh_score(self):\n",
    "        self.high_score = max(self.high_score,self.score)\n",
    "        self.update_score()\n",
    "    def reset(self):\n",
    "        self.clear()\n",
    "        self.create_scoreboard(self.high_score)"
   ]
  },
  {
   "cell_type": "code",
   "execution_count": 5,
   "metadata": {
    "scrolled": true
   },
   "outputs": [],
   "source": [
    "try:\n",
    "    screen = Screen()\n",
    "    screen.setup(600,600)\n",
    "    screen.bgcolor('black')\n",
    "    screen.title('Snake Game')\n",
    "    snake = Snake()\n",
    "    food = Food()\n",
    "    scoreboard = Scoreboard()\n",
    "    screen.tracer(0)\n",
    "    game_is_on = True\n",
    "    screen.listen()\n",
    "    screen.onkey(snake.Up, 'Up')\n",
    "    screen.onkey(snake.Down, 'Down')\n",
    "    screen.onkey(snake.Left, 'Left')\n",
    "    screen.onkey(snake.Right,'Right')\n",
    "    replay = 'no'\n",
    "    while game_is_on:\n",
    "        screen.listen()\n",
    "        screen.update()\n",
    "        time.sleep(0.1)\n",
    "        snake.move()\n",
    "        if snake.head.distance(food) <= 15: \n",
    "            food.refresh()\n",
    "            snake.extend()\n",
    "            scoreboard.increase_score()\n",
    "        if snake.head.xcor() > 295 or snake.head.xcor() < -295 or snake.head.ycor() > 295 or snake.head.ycor() < -295:\n",
    "            scoreboard.refresh_score()\n",
    "            scoreboard.game_over()\n",
    "            replay = scoreboard.replay\n",
    "            if replay == 'yes':\n",
    "                snake.reset()\n",
    "                scoreboard.reset()\n",
    "            else: game_is_on = False\n",
    "        for segment in snake.segments[1:]:\n",
    "            if snake.head.distance(segment) <= 15:\n",
    "                scoreboard.refresh_score()\n",
    "                scoreboard.game_over()\n",
    "                replay = scoreboard.replay\n",
    "                if replay == 'yes':\n",
    "                    snake.reset()\n",
    "                    scoreboard.reset()\n",
    "                else: game_is_on = False\n",
    "    screen.exitonclick()\n",
    "except:\n",
    "    print('Error')"
   ]
  },
  {
   "cell_type": "markdown",
   "metadata": {},
   "source": [
    "Project Link: https://replit.com/@ryanluoli/The-Snake-Game?embed=1&output=1#main.py"
   ]
  }
 ],
 "metadata": {
  "kernelspec": {
   "display_name": "Python 3",
   "language": "python",
   "name": "python3"
  },
  "language_info": {
   "codemirror_mode": {
    "name": "ipython",
    "version": 3
   },
   "file_extension": ".py",
   "mimetype": "text/x-python",
   "name": "python",
   "nbconvert_exporter": "python",
   "pygments_lexer": "ipython3",
   "version": "3.8.5"
  }
 },
 "nbformat": 4,
 "nbformat_minor": 4
}
