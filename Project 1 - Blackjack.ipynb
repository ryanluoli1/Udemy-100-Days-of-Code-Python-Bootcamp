{
 "cells": [
  {
   "cell_type": "markdown",
   "metadata": {},
   "source": [
    "# Project 1 - Blackjack"
   ]
  },
  {
   "cell_type": "code",
   "execution_count": 1,
   "metadata": {},
   "outputs": [],
   "source": [
    "import numpy as np"
   ]
  },
  {
   "cell_type": "code",
   "execution_count": 2,
   "metadata": {},
   "outputs": [],
   "source": [
    "def deal():\n",
    "    full_deck = ['A',2,3,4,5,6,7,8,9,10,'J','Q','K']*4\n",
    "    np.random.shuffle(full_deck)\n",
    "    deck = full_deck\n",
    "    player = [deck[0],deck[2]]\n",
    "    computer = [deck[1],deck[3]]\n",
    "    print(f'Your cards are: {player}, total = {add_cards(player)}')\n",
    "    print(f\"Computer's first card is: {computer[0]}\")\n",
    "    return deck, player, computer"
   ]
  },
  {
   "cell_type": "code",
   "execution_count": 3,
   "metadata": {},
   "outputs": [],
   "source": [
    "def add_cards(lst):\n",
    "    total = 0\n",
    "    for card in lst:\n",
    "        if card in ['J','Q','K']: card = 10\n",
    "        elif card == 'A':\n",
    "            card = 11\n",
    "            if total + card > 21: card = 1\n",
    "        total += card\n",
    "    return total"
   ]
  },
  {
   "cell_type": "code",
   "execution_count": 7,
   "metadata": {},
   "outputs": [],
   "source": [
    "def single_round():\n",
    "    deck, player, computer = deal()\n",
    "    n = 4; stop = [0,0]\n",
    "    while stop != [1,1]:\n",
    "        if add_cards(computer) < 17: action = 'h'\n",
    "        else: \n",
    "            hit = max(0.1*(20 - add_cards(computer)),0)\n",
    "            action = np.random.choice(['h','s'],p=[hit,1-hit])\n",
    "        if stop[0] != 1:\n",
    "            if input(f'Do you want to hit(h) or stand(s): ') == 'h':\n",
    "                player.append(deck[n])\n",
    "                n += 1\n",
    "                print(f'Your cards: {player}, total = {add_cards(player)}')\n",
    "                if add_cards(player) > 21: \n",
    "                    print(f\"Bust!\")\n",
    "                    print(f'Your cards: {player}, total = {add_cards(player)}')\n",
    "                    print(f\"Computer's cards: {computer}, total = {add_cards(computer)}\")\n",
    "                    print('You lose!')\n",
    "                    return\n",
    "            else: stop[0] = 1\n",
    "        if action == 'h':\n",
    "            computer.append(deck[n])\n",
    "            n += 1\n",
    "            if add_cards(computer) > 21: \n",
    "                print(f\"Computer bust, cards: {computer}, total = {add_cards(computer)}\")\n",
    "                print(f'Your cards: {player}, total = {add_cards(player)}')\n",
    "                if add_cards(player) == add_cards(computer): print('Draw!')\n",
    "                print('You win!')\n",
    "                return\n",
    "        else: stop[1] = 1\n",
    "    print(f'Your cards: {player}, total = {add_cards(player)}')\n",
    "    if add_cards(player) == 21: print('Blackjack!')\n",
    "    print(f\"Computer's cards: {computer}, total = {add_cards(computer)}\")\n",
    "    if add_cards(computer) == 21: print('Blackjack!')\n",
    "    if add_cards(player) > add_cards(computer): print('You win!')\n",
    "    elif add_cards(player) < add_cards(computer): print('You lose!')\n",
    "    else: print('Draw!')"
   ]
  },
  {
   "cell_type": "code",
   "execution_count": 8,
   "metadata": {},
   "outputs": [],
   "source": [
    "def blackjack():\n",
    "    play = input('Do you want to play blackjack? Yes(y) or No(n): ')\n",
    "    while play == 'y': \n",
    "        single_round()\n",
    "        play = input('Do you still want to play? Yes(y) or No(n): ')"
   ]
  },
  {
   "cell_type": "code",
   "execution_count": 9,
   "metadata": {
    "scrolled": true
   },
   "outputs": [
    {
     "name": "stdout",
     "output_type": "stream",
     "text": [
      "Do you want to play blackjack? Yes(y) or No(n): y\n",
      "Your cards are: [3, 8], total = 11\n",
      "Computer's first card is: K\n",
      "Do you want to hit(h) or stand(s): h\n",
      "Your cards: [3, 8, 'K'], total = 21\n",
      "Do you want to hit(h) or stand(s): s\n",
      "Your cards: [3, 8, 'K'], total = 21\n",
      "Blackjack!\n",
      "Computer's cards: ['K', 'Q'], total = 20\n",
      "You win!\n",
      "Do you still want to play? Yes(y) or No(n): n\n"
     ]
    }
   ],
   "source": [
    "blackjack()"
   ]
  },
  {
   "cell_type": "markdown",
   "metadata": {},
   "source": [
    "Project Link: https://replit.com/@ryanluoli/Blackjack-Game?embed=1&output=1#main.py"
   ]
  }
 ],
 "metadata": {
  "kernelspec": {
   "display_name": "Python 3",
   "language": "python",
   "name": "python3"
  },
  "language_info": {
   "codemirror_mode": {
    "name": "ipython",
    "version": 3
   },
   "file_extension": ".py",
   "mimetype": "text/x-python",
   "name": "python",
   "nbconvert_exporter": "python",
   "pygments_lexer": "ipython3",
   "version": "3.8.5"
  }
 },
 "nbformat": 4,
 "nbformat_minor": 4
}
