{
 "cells": [
  {
   "cell_type": "markdown",
   "metadata": {},
   "source": [
    "# Project 12 - Weather Search with APIs"
   ]
  },
  {
   "cell_type": "markdown",
   "metadata": {},
   "source": [
    "## Application Program Interfaces (APIs)"
   ]
  },
  {
   "cell_type": "markdown",
   "metadata": {},
   "source": [
    "https://opencagedata.com/dashboard#geocoding"
   ]
  },
  {
   "cell_type": "code",
   "execution_count": 1,
   "metadata": {},
   "outputs": [],
   "source": [
    "import requests"
   ]
  },
  {
   "cell_type": "code",
   "execution_count": 2,
   "metadata": {},
   "outputs": [],
   "source": [
    "geo_url = 'https://api.opencagedata.com/geocode/v1/json'\n",
    "geo_api_key = '867aabd7c6b2474f96e9673b8cd5d7f4'\n",
    "address = '54 Cobourg Street, UK'"
   ]
  },
  {
   "cell_type": "code",
   "execution_count": 3,
   "metadata": {},
   "outputs": [],
   "source": [
    "geo_parameters = {\n",
    "    'key': geo_api_key,\n",
    "    'q': address,\n",
    "}"
   ]
  },
  {
   "cell_type": "code",
   "execution_count": 70,
   "metadata": {},
   "outputs": [
    {
     "name": "stdout",
     "output_type": "stream",
     "text": [
      "51.5275752 -0.1363379\n",
      "{'ISO_3166-1_alpha-2': 'GB', 'ISO_3166-1_alpha-3': 'GBR', '_category': 'building', '_type': 'building', 'city': 'London', 'city_district': 'London Borough of Camden', 'continent': 'Europe', 'country': 'United Kingdom', 'country_code': 'gb', 'house_number': '52,54,56,58', 'postcode': 'NW1 2HB', 'road': 'Cobourg Street', 'state': 'England', 'state_code': 'ENG', 'state_district': 'Greater London', 'suburb': 'Somers Town'}\n"
     ]
    }
   ],
   "source": [
    "geo_response = requests.get(geo_url, params=geo_parameters)\n",
    "geo_response.raise_for_status()\n",
    "geo_data = geo_response.json()\n",
    "latitude = geo_data['results'][0]['geometry']['lat']\n",
    "longitude = geo_data['results'][0]['geometry']['lng']\n",
    "print(latitude, longitude)\n",
    "print(geo_data['results'][0]['components']['city'])"
   ]
  },
  {
   "cell_type": "markdown",
   "metadata": {},
   "source": [
    "## Weather Search"
   ]
  },
  {
   "cell_type": "markdown",
   "metadata": {},
   "source": [
    "https://openweathermap.org/api"
   ]
  },
  {
   "cell_type": "code",
   "execution_count": 43,
   "metadata": {},
   "outputs": [],
   "source": [
    "import numpy as np\n",
    "from tkinter import *\n",
    "from tkinter import messagebox"
   ]
  },
  {
   "cell_type": "code",
   "execution_count": 27,
   "metadata": {},
   "outputs": [],
   "source": [
    "weather_url = 'https://api.openweathermap.org/data/2.5/weather'\n",
    "weather_api_key = 'c56ef650b0e21b4ef073e049a720fd5c'"
   ]
  },
  {
   "cell_type": "code",
   "execution_count": 85,
   "metadata": {},
   "outputs": [],
   "source": [
    "def search():\n",
    "    geo_parameters = {\n",
    "        'key': geo_api_key,\n",
    "        'q': addr_input.get(),\n",
    "    }\n",
    "    geo_response = requests.get(geo_url, params=geo_parameters)\n",
    "    geo_response.raise_for_status()\n",
    "    geo_data = geo_response.json()\n",
    "    city = geo_data['results'][0]['components']['city']\n",
    "    country = geo_data['results'][0]['components']['country']\n",
    "    weather_parameters = {\n",
    "        'lat': geo_data['results'][0]['geometry']['lat'],\n",
    "        'lon': geo_data['results'][0]['geometry']['lng'],\n",
    "        'appid': weather_api_key\n",
    "    }    \n",
    "    weather_response = requests.get(weather_url, params=weather_parameters)\n",
    "    weather_response.raise_for_status()\n",
    "    weather_data = weather_response.json()\n",
    "    weather = weather_data['weather'][0]['main']\n",
    "    temperature = weather_data['main']['temp']\n",
    "    info = f'''Address: {addr_input.get()} \\n Country: {country} \\n City: {city} \\n The weather is: {weather} \\n The temperature is: {round(temperature-273.15)}°C'''\n",
    "    messagebox.showinfo(title='Results', message=info)\n",
    "    \n",
    "def temp_convert(temp_f):\n",
    "    return (temp_f - 32) * (5/9)"
   ]
  },
  {
   "cell_type": "code",
   "execution_count": 86,
   "metadata": {},
   "outputs": [],
   "source": [
    "window = Tk()\n",
    "window.title('Weather Alert')\n",
    "window.config(padx=50, pady=50)\n",
    "\n",
    "addr_label = Label(text='Address:    ', font=('Arial',10,'bold'))\n",
    "addr_label.grid(row=1, column=0)\n",
    "\n",
    "addr_input = Entry(width=35)\n",
    "addr_input.grid(row=1, column=1, columnspan=2)\n",
    "addr_input.focus()\n",
    "\n",
    "search_button = Button(text='search',font=('Arial',10,'bold'), command=search, width=10)\n",
    "search_button.grid(row=1, column=3)\n",
    "\n",
    "window.mainloop()"
   ]
  },
  {
   "cell_type": "markdown",
   "metadata": {},
   "source": [
    "Project Link: https://replit.com/@ryanluoli/Weather-Searcher?embed=1,output=1#main.py"
   ]
  }
 ],
 "metadata": {
  "kernelspec": {
   "display_name": "Python 3",
   "language": "python",
   "name": "python3"
  },
  "language_info": {
   "codemirror_mode": {
    "name": "ipython",
    "version": 3
   },
   "file_extension": ".py",
   "mimetype": "text/x-python",
   "name": "python",
   "nbconvert_exporter": "python",
   "pygments_lexer": "ipython3",
   "version": "3.8.5"
  }
 },
 "nbformat": 4,
 "nbformat_minor": 4
}
