{
 "cells": [
  {
   "cell_type": "markdown",
   "metadata": {},
   "source": [
    "# Project 14 - Habit Tracker"
   ]
  },
  {
   "cell_type": "markdown",
   "metadata": {},
   "source": [
    "pixela API: https://pixe.la/"
   ]
  },
  {
   "cell_type": "code",
   "execution_count": 107,
   "metadata": {},
   "outputs": [],
   "source": [
    "import requests"
   ]
  },
  {
   "cell_type": "markdown",
   "metadata": {},
   "source": [
    "### Sign Up"
   ]
  },
  {
   "cell_type": "code",
   "execution_count": 111,
   "metadata": {},
   "outputs": [],
   "source": [
    "signup_url = 'https://pixe.la/v1/users'\n",
    "token = 'Ryan4211'\n",
    "username = 'luoli'"
   ]
  },
  {
   "cell_type": "code",
   "execution_count": 112,
   "metadata": {},
   "outputs": [],
   "source": [
    "user_parameters = {\n",
    "    'token': token,\n",
    "    'username': username,\n",
    "    'agreeTermsOfService': 'yes',\n",
    "    'notMinor': 'yes',\n",
    "}"
   ]
  },
  {
   "cell_type": "code",
   "execution_count": 113,
   "metadata": {},
   "outputs": [
    {
     "name": "stdout",
     "output_type": "stream",
     "text": [
      "{\"message\":\"Success. Let's visit https://pixe.la/@luoli , it is your profile page!\",\"isSuccess\":true}\n"
     ]
    }
   ],
   "source": [
    "signup_response = requests.post(url=signup_url, json=user_parameters)\n",
    "print(signup_response.text)"
   ]
  },
  {
   "cell_type": "markdown",
   "metadata": {},
   "source": [
    "### Create a Graph"
   ]
  },
  {
   "cell_type": "code",
   "execution_count": 127,
   "metadata": {},
   "outputs": [],
   "source": [
    "graph_url = f'https://pixe.la/v1/users/{username}/graphs'\n",
    "ID = 'graph1'\n",
    "graph_name = 'Coding Challenge Tracker'\n",
    "unit = 'day'"
   ]
  },
  {
   "cell_type": "code",
   "execution_count": 128,
   "metadata": {},
   "outputs": [],
   "source": [
    "graph_parameters = {\n",
    "    'X-USER-TOKEN': token,\n",
    "    'id': ID,\n",
    "    'name': graph_name,\n",
    "    'unit': unit,\n",
    "    'type': 'int',\n",
    "    'color': 'sora',\n",
    "}\n",
    "\n",
    "headers = {\n",
    "    'X-USER-TOKEN': token,\n",
    "}"
   ]
  },
  {
   "cell_type": "code",
   "execution_count": 129,
   "metadata": {},
   "outputs": [
    {
     "name": "stdout",
     "output_type": "stream",
     "text": [
      "{\"message\":\"Success.\",\"isSuccess\":true}\n"
     ]
    }
   ],
   "source": [
    "graph_response = requests.post(url=graph_url, json=graph_parameters, headers=headers)\n",
    "print(graph_response.text)"
   ]
  },
  {
   "cell_type": "markdown",
   "metadata": {},
   "source": [
    "Graph: https://pixe.la/v1/users/luoli/graphs/graph1.html"
   ]
  },
  {
   "cell_type": "markdown",
   "metadata": {},
   "source": [
    "### Post a Pixel"
   ]
  },
  {
   "cell_type": "code",
   "execution_count": 148,
   "metadata": {},
   "outputs": [],
   "source": [
    "from datetime import datetime"
   ]
  },
  {
   "cell_type": "code",
   "execution_count": 149,
   "metadata": {},
   "outputs": [
    {
     "name": "stdout",
     "output_type": "stream",
     "text": [
      "{\"message\":\"Success.\",\"isSuccess\":true}\n"
     ]
    }
   ],
   "source": [
    "pixel_url = f'https://pixe.la/v1/users/{username}/graphs/{ID}'\n",
    "today = datetime.now()\n",
    "\n",
    "pixel_parameters = {\n",
    "    'date': today.strftime('%Y%m%d'),\n",
    "    'quantity': '1',\n",
    "}\n",
    "\n",
    "pixel_response = requests.post(url=pixel_url, json=pixel_parameters, headers=headers)\n",
    "print(pixel_response.text)"
   ]
  },
  {
   "cell_type": "markdown",
   "metadata": {},
   "source": [
    "### Delete a Pixel"
   ]
  },
  {
   "cell_type": "code",
   "execution_count": 133,
   "metadata": {},
   "outputs": [
    {
     "name": "stdout",
     "output_type": "stream",
     "text": [
      "{\"message\":\"Success.\",\"isSuccess\":true}\n"
     ]
    }
   ],
   "source": [
    "delete_url = f\"https://pixe.la/v1/users/{username}/graphs/{ID}/{today.strftime('%Y%m%d')}\"\n",
    "delete_response = requests.delete(url=delete_url, headers=headers)\n",
    "print(delete_response.text)"
   ]
  },
  {
   "cell_type": "markdown",
   "metadata": {},
   "source": [
    "## Habit Tracker GUI"
   ]
  },
  {
   "cell_type": "code",
   "execution_count": 150,
   "metadata": {},
   "outputs": [],
   "source": [
    "import numpy as np\n",
    "from tkinter import *\n",
    "from tkinter import messagebox"
   ]
  },
  {
   "cell_type": "code",
   "execution_count": 159,
   "metadata": {},
   "outputs": [],
   "source": [
    "def save():\n",
    "    quantity = quantity_input.get()\n",
    "    pixel_parameters = {\n",
    "        'date': today.strftime('%Y%m%d'),\n",
    "        'quantity': quantity,\n",
    "    }\n",
    "    pixel_response = requests.post(url=pixel_url, json=pixel_parameters, headers=headers)\n",
    "    if pixel_response.text.split(\":\")[1].split(',')[0] == \"Success.\":\n",
    "        messagebox.showinfo(title='Results', message='Successfully saved.')\n",
    "    else:\n",
    "        messagebox.showinfo(title='Results', message=pixel_response.text.split(\":\")[1].split(',')[0])"
   ]
  },
  {
   "cell_type": "code",
   "execution_count": 160,
   "metadata": {},
   "outputs": [],
   "source": [
    "pixel_url = f'https://pixe.la/v1/users/{username}/graphs/{ID}'\n",
    "today = datetime.now()\n",
    "\n",
    "window = Tk()\n",
    "window.title('Habit Tracker')\n",
    "window.config(padx=50, pady=50)\n",
    "\n",
    "today_label = Label(text=f\"Today is {today.strftime('%Y-%m-%d')}\", font=('Arial',10,'bold'))\n",
    "today_label.grid(row=1, column=0)\n",
    "quantity_label = Label(text=f'Quantity', font=('Arial',10,'bold'))\n",
    "quantity_label.grid(row=2, column=0)\n",
    "\n",
    "quantity_input = Entry(width=35)\n",
    "quantity_input.grid(row=2, column=1, columnspan=2)\n",
    "quantity_input.focus()\n",
    "\n",
    "save_button = Button(text='save',font=('Arial',10,'bold'), command=save, width=10)\n",
    "save_button.grid(row=2, column=3)\n",
    "\n",
    "window.mainloop()"
   ]
  }
 ],
 "metadata": {
  "kernelspec": {
   "display_name": "Python 3",
   "language": "python",
   "name": "python3"
  },
  "language_info": {
   "codemirror_mode": {
    "name": "ipython",
    "version": 3
   },
   "file_extension": ".py",
   "mimetype": "text/x-python",
   "name": "python",
   "nbconvert_exporter": "python",
   "pygments_lexer": "ipython3",
   "version": "3.8.5"
  }
 },
 "nbformat": 4,
 "nbformat_minor": 4
}
