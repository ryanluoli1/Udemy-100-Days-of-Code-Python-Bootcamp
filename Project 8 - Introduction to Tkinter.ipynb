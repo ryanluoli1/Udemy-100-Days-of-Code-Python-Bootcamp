{
 "cells": [
  {
   "cell_type": "markdown",
   "metadata": {},
   "source": [
    "# Project 8 - Introduction to Tkinter"
   ]
  },
  {
   "cell_type": "markdown",
   "metadata": {},
   "source": [
    "http://tcl.tk/man/tcl8.6/TkCmd/contents.htm"
   ]
  },
  {
   "cell_type": "code",
   "execution_count": 89,
   "metadata": {},
   "outputs": [],
   "source": [
    "from tkinter import *"
   ]
  },
  {
   "cell_type": "code",
   "execution_count": 139,
   "metadata": {},
   "outputs": [],
   "source": [
    "window = Tk()\n",
    "window.title('Units Converter')\n",
    "window.minsize(400,400)"
   ]
  },
  {
   "cell_type": "markdown",
   "metadata": {},
   "source": [
    "### Label, Button & Entry"
   ]
  },
  {
   "cell_type": "code",
   "execution_count": 87,
   "metadata": {},
   "outputs": [],
   "source": [
    "label = Label(text=\"label\", font=('Arial',15,'normal'))\n",
    "label.pack(side='left')\n",
    "\n",
    "def button_clicked():\n",
    "    label.config(text=input.get())\n",
    "    \n",
    "button = Button(text=\"button\", font=('Arial',15,'normal'), command=button_clicked)\n",
    "button.pack()\n",
    "\n",
    "input = Entry(width=10)\n",
    "input.pack()"
   ]
  },
  {
   "cell_type": "code",
   "execution_count": 88,
   "metadata": {},
   "outputs": [],
   "source": [
    "window.mainloop()"
   ]
  },
  {
   "cell_type": "markdown",
   "metadata": {},
   "source": [
    "### Spinbox"
   ]
  },
  {
   "cell_type": "code",
   "execution_count": 128,
   "metadata": {},
   "outputs": [],
   "source": [
    "def spin():\n",
    "    print(spinbox.get())\n",
    "spinbox = Spinbox(from_=0, to=5, width=5, command=spin)\n",
    "spinbox.pack()"
   ]
  },
  {
   "cell_type": "code",
   "execution_count": 129,
   "metadata": {},
   "outputs": [],
   "source": [
    "window.mainloop()"
   ]
  },
  {
   "cell_type": "markdown",
   "metadata": {},
   "source": [
    "### Scale"
   ]
  },
  {
   "cell_type": "code",
   "execution_count": 107,
   "metadata": {
    "scrolled": true
   },
   "outputs": [],
   "source": [
    "def scroll(value):\n",
    "    print(value)\n",
    "scale = Scale(from_=0, to=100, width=10, command=scroll)\n",
    "scale.pack()"
   ]
  },
  {
   "cell_type": "code",
   "execution_count": 108,
   "metadata": {},
   "outputs": [],
   "source": [
    "window.mainloop()"
   ]
  },
  {
   "cell_type": "markdown",
   "metadata": {},
   "source": [
    "### Checkbox"
   ]
  },
  {
   "cell_type": "code",
   "execution_count": 126,
   "metadata": {},
   "outputs": [],
   "source": [
    "def check():\n",
    "    print(checked_state.get())\n",
    "checked_state = IntVar(window)\n",
    "checkbutton = Checkbutton(text='The heater is on.', variable=checked_state, command=check)\n",
    "checkbutton.pack()"
   ]
  },
  {
   "cell_type": "code",
   "execution_count": 127,
   "metadata": {},
   "outputs": [],
   "source": [
    "window.mainloop()"
   ]
  },
  {
   "cell_type": "markdown",
   "metadata": {},
   "source": [
    "### Layouts: pack, place, grid"
   ]
  },
  {
   "cell_type": "code",
   "execution_count": 150,
   "metadata": {},
   "outputs": [],
   "source": [
    "window = Tk()\n",
    "window.title('Units Converter')\n",
    "window.minsize(400,400)\n",
    "window.config(padx=10,pady=10)"
   ]
  },
  {
   "cell_type": "code",
   "execution_count": 151,
   "metadata": {},
   "outputs": [],
   "source": [
    "def button_clicked():\n",
    "    label.config(text=input.get())"
   ]
  },
  {
   "cell_type": "code",
   "execution_count": 152,
   "metadata": {},
   "outputs": [],
   "source": [
    "label = Label(text=\"label\", font=('Arial',15,'normal'))\n",
    "label.grid(column=0,row=0)\n",
    "    \n",
    "button = Button(text=\"button\", font=('Arial',15,'normal'), command=button_clicked)\n",
    "button.grid(column=1,row=1)\n",
    "\n",
    "input = Entry(width=10)\n",
    "input.grid(column=2,row=2)"
   ]
  },
  {
   "cell_type": "code",
   "execution_count": 153,
   "metadata": {},
   "outputs": [],
   "source": [
    "window.mainloop()"
   ]
  },
  {
   "cell_type": "markdown",
   "metadata": {},
   "source": [
    "## Mile to Kilometer Converter"
   ]
  },
  {
   "cell_type": "code",
   "execution_count": 242,
   "metadata": {},
   "outputs": [],
   "source": [
    "window = Tk()\n",
    "window.title('Units Converter')\n",
    "window.minsize(200,100)\n",
    "window.config(padx=10,pady=10)\n",
    "\n",
    "def convert():\n",
    "    if mile_label.cget('text') == 'Miles': result = round(float(input.get())*1.60934,2)\n",
    "    else: result = round(float(input.get())/1.60934,2)\n",
    "    output_label.config(text=f'{result}')\n",
    "def switch():\n",
    "    mile = mile_label.cget('text')\n",
    "    km = km_label.cget('text')\n",
    "    km_label.config(text=mile)\n",
    "    mile_label.config(text=km)\n",
    "    \n",
    "mile_label = Label(text=\"Miles\", font=('Arial',10,'normal'))\n",
    "mile_label.grid(column=2,row=0)\n",
    "\n",
    "km_label = Label(text=\"Km\", font=('Arial',10,'normal'))\n",
    "km_label.grid(column=2,row=1)\n",
    "\n",
    "output_label = Label(text=\"0\", font=('Arial',10,'normal'), width=10)\n",
    "output_label.grid(column=1,row=1)\n",
    "    \n",
    "convert_button = Button(text=\"Convert\", font=('Arial',10,'normal'), command=convert)\n",
    "convert_button.grid(column=1,row=2)\n",
    "\n",
    "switch_button = Button(text=\"Swtich\", font=('Arial',10,'normal'), command=switch)\n",
    "switch_button.grid(column=0,row=1)\n",
    "\n",
    "input = Entry(width=10)\n",
    "input.grid(column=1,row=0)"
   ]
  },
  {
   "cell_type": "code",
   "execution_count": 243,
   "metadata": {},
   "outputs": [],
   "source": [
    "window.mainloop()"
   ]
  }
 ],
 "metadata": {
  "kernelspec": {
   "display_name": "Python 3",
   "language": "python",
   "name": "python3"
  },
  "language_info": {
   "codemirror_mode": {
    "name": "ipython",
    "version": 3
   },
   "file_extension": ".py",
   "mimetype": "text/x-python",
   "name": "python",
   "nbconvert_exporter": "python",
   "pygments_lexer": "ipython3",
   "version": "3.8.5"
  }
 },
 "nbformat": 4,
 "nbformat_minor": 4
}
