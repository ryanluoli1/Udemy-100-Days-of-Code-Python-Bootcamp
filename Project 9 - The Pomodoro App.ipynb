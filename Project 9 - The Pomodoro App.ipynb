{
 "cells": [
  {
   "cell_type": "markdown",
   "metadata": {},
   "source": [
    "# Project 9 - The Pomodoro App"
   ]
  },
  {
   "cell_type": "code",
   "execution_count": 1,
   "metadata": {},
   "outputs": [],
   "source": [
    "from tkinter import *"
   ]
  },
  {
   "cell_type": "code",
   "execution_count": 59,
   "metadata": {},
   "outputs": [],
   "source": [
    "PINK = \"#e2979c\"\n",
    "RED = \"#e7305b\"\n",
    "GREEN = \"#9bdeac\"\n",
    "YELLOW = \"#f7f5dd\"\n",
    "FONT_NAME = \"Courier\"\n",
    "WORK_MIN = 25\n",
    "SHORT_BREAK_MIN = 5\n",
    "LONG_BREAK_MIN = 20\n",
    "CHECK = '✔'\n",
    "timer = None"
   ]
  },
  {
   "cell_type": "code",
   "execution_count": 1,
   "metadata": {},
   "outputs": [],
   "source": [
    "img = 'C:\\\\Users\\\\ryanl\\\\OneDrive\\\\Desktop\\\\Python\\\\100 Days Challenge\\\\Files\\\\tomato.png'"
   ]
  },
  {
   "cell_type": "code",
   "execution_count": 68,
   "metadata": {},
   "outputs": [],
   "source": [
    "def count_down(TOTAL_TIME):\n",
    "    minute = round((TOTAL_TIME - TOTAL_TIME%60)/60)\n",
    "    second = round(TOTAL_TIME%60)\n",
    "    minute_text = f'{minute}' if minute >= 10 else f'0{minute}'\n",
    "    second_text = f'{second}' if second >= 10 else f'0{second}'\n",
    "    time_text = minute_text + ':' + second_text\n",
    "    canvas.itemconfig(timer_text, text=time_text)\n",
    "    if TOTAL_TIME > 0: \n",
    "        global timer\n",
    "        timer = window.after(1000, count_down, TOTAL_TIME-1)\n",
    "    if TOTAL_TIME == 0:\n",
    "        check = check_label.cget('text')\n",
    "        new_check = check + CHECK\n",
    "        check_label.config(text=new_check)\n",
    "        if new_check == CHECK + CHECK:\n",
    "            timer_label.config(text='Take a break!')\n",
    "        \n",
    "def start():\n",
    "    timer_label.config(text='Timer')\n",
    "    TOTAL_TIME = 25*60\n",
    "    count_down(TOTAL_TIME)\n",
    "    \n",
    "def reset():\n",
    "    window.after_cancel(timer)\n",
    "    canvas.itemconfig(timer_text, text='00:00')\n",
    "    check_label.config(text='')"
   ]
  },
  {
   "cell_type": "code",
   "execution_count": 69,
   "metadata": {},
   "outputs": [],
   "source": [
    "window = Tk()\n",
    "window.title('Pomodoro')\n",
    "window.config(padx=100, pady=30, bg=YELLOW)\n",
    "\n",
    "timer_label = Label(text='Timer', font=(FONT_NAME,30,'bold'), bg=YELLOW, fg=GREEN)\n",
    "timer_label.grid(row=0,column=1)\n",
    "check_label = Label(text='', font=(FONT_NAME,15,'bold'), bg=YELLOW, fg=PINK)\n",
    "check_label.grid(row=2,column=1)\n",
    "    \n",
    "start_button = Button(text='start',font=('Arial',15,'normal'), command=start)\n",
    "start_button.grid(row=2,column=0)\n",
    "reset_button = Button(text='reset',font=('Arial',15,'normal'), command=reset)\n",
    "reset_button.grid(row=2,column=2)\n",
    "\n",
    "canvas = Canvas(width=200, height=224, bg=YELLOW, highlightthickness=0)\n",
    "tomato_img = PhotoImage(file=img) \n",
    "canvas.create_image(100, 112, image=tomato_img)\n",
    "timer_text = canvas.create_text(100, 130, text='00:00', fill='white', font=(FONT_NAME,30,'bold'))\n",
    "canvas.grid(row=1,column=1)"
   ]
  },
  {
   "cell_type": "code",
   "execution_count": 70,
   "metadata": {},
   "outputs": [],
   "source": [
    "window.mainloop()"
   ]
  }
 ],
 "metadata": {
  "kernelspec": {
   "display_name": "Python 3",
   "language": "python",
   "name": "python3"
  },
  "language_info": {
   "codemirror_mode": {
    "name": "ipython",
    "version": 3
   },
   "file_extension": ".py",
   "mimetype": "text/x-python",
   "name": "python",
   "nbconvert_exporter": "python",
   "pygments_lexer": "ipython3",
   "version": "3.8.5"
  }
 },
 "nbformat": 4,
 "nbformat_minor": 4
}
