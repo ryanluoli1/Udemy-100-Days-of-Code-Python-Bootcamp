{
 "cells": [
  {
   "cell_type": "markdown",
   "metadata": {},
   "source": [
    "# Project 13 - Stock Trading News Alert"
   ]
  },
  {
   "cell_type": "code",
   "execution_count": 51,
   "metadata": {},
   "outputs": [],
   "source": [
    "import requests\n",
    "import pandas as pd\n",
    "from datetime import timedelta"
   ]
  },
  {
   "cell_type": "markdown",
   "metadata": {},
   "source": [
    "Stock Price API: https://www.alphavantage.co/documentation/"
   ]
  },
  {
   "cell_type": "code",
   "execution_count": 33,
   "metadata": {},
   "outputs": [],
   "source": [
    "price_url = 'https://www.alphavantage.co/query'\n",
    "price_api_key = 'XNZ37NGQP667LB2X'\n",
    "company = \"IBM\""
   ]
  },
  {
   "cell_type": "code",
   "execution_count": 34,
   "metadata": {},
   "outputs": [],
   "source": [
    "price_parameters = {\n",
    "    'function': 'TIME_SERIES_DAILY',\n",
    "    'symbol': company,\n",
    "    'apikey': price_api_key,\n",
    "}"
   ]
  },
  {
   "cell_type": "code",
   "execution_count": 60,
   "metadata": {},
   "outputs": [
    {
     "name": "stdout",
     "output_type": "stream",
     "text": [
      "0.88\n",
      "1.0\n"
     ]
    }
   ],
   "source": [
    "price_response= requests.get(url=price_url, params=price_parameters)\n",
    "price_data = price_response.json()\n",
    "refreshed_time = price_data['Meta Data']['3. Last Refreshed']\n",
    "date = pd.to_datetime(refreshed_time) - timedelta(1)\n",
    "yesterday = f'{date.year}-{date.month}-{date.day}'\n",
    "close_at_refresh = price_data['Time Series (Daily)'][refreshed_time]['4. close']\n",
    "close_at_yesterday = price_data['Time Series (Daily)'][yesterday]['4. close']\n",
    "price_difference = round(float(close_at_refresh) - float(close_at_yesterday),2)\n",
    "percentage_difference = round(price_difference/float(close_at_yesterday),2)*100\n",
    "print(price_difference)\n",
    "print(percentage_difference)"
   ]
  },
  {
   "cell_type": "markdown",
   "metadata": {},
   "source": [
    "News API: https://newsapi.org/docs"
   ]
  },
  {
   "cell_type": "code",
   "execution_count": 70,
   "metadata": {},
   "outputs": [],
   "source": [
    "news_url = 'https://newsapi.org/v2/everything'\n",
    "news_api_key = '4b7d79c531784f2f8533835e1aa25279'\n",
    "keywords = 'IBM'"
   ]
  },
  {
   "cell_type": "code",
   "execution_count": 71,
   "metadata": {},
   "outputs": [],
   "source": [
    "news_parameters = {\n",
    "    'apiKey': news_api_key,\n",
    "    'q': keywords,\n",
    "    'qInTitle': company\n",
    "    'from': yesterday,\n",
    "}"
   ]
  },
  {
   "cell_type": "code",
   "execution_count": 123,
   "metadata": {},
   "outputs": [],
   "source": [
    "news_response= requests.get(url=news_url, params=news_parameters)\n",
    "news_data = news_response.json()\n",
    "articles = news_data['articles'][:3]\n",
    "messages = []\n",
    "for article in articles:\n",
    "    message = f\"Title: {article['title']}. \\nBrief: {article['description']}. \\nLink: {article['url']}. \\n\"\n",
    "    messages.append(message)"
   ]
  },
  {
   "cell_type": "code",
   "execution_count": 126,
   "metadata": {},
   "outputs": [
    {
     "name": "stdout",
     "output_type": "stream",
     "text": [
      "The change in close price: 1.0% \n",
      "\n",
      "Relevant News: \n",
      "\n",
      "Title: 10 Laptops That Were Too Strange for This World. \n",
      "Brief: Only in the last few years has laptop design evolved beyond its clamshell origins, with the introduction of dual screens, convertibles, and foldable displays, but some of the most fascinating features were found in the laptops that failed along the way. From …. \n",
      "Link: https://gizmodo.com/10-laptops-that-were-too-strange-for-this-world-1848253945. \n",
      "\n",
      "Title: Vista Equity to acquire majority stake in Salesloft at $2.3 bln valuation - WSJ - Reuters. \n",
      "Brief: Vista Equity Partners will acquire a majority stake in Salesloft Inc, valuing the sales engagement software company at $2.3 billion, the Wall Street Journal <a href=\"https://www.wsj.com/articles/vista-equity-backs-salesloft-at-2-3-billion-valuation-1164021766…. \n",
      "Link: https://www.reuters.com/markets/us/vista-equity-acquire-majority-stake-salesloft-23-bln-valuation-wsj-2021-12-23/. \n",
      "\n",
      "Title: Christmas shopping the IBM way: computerized gift selection in 1962. \n",
      "Brief: In 1962, the Simpson's department store in Toronto used an IBM computer to help customers select Christmas gifts, based on the characteris.... \n",
      "Link: https://www.righto.com/2021/12/christmas-shopping-ibm-way-computerized.html. \n",
      "\n"
     ]
    }
   ],
   "source": [
    "if percentage_difference > 0.5:\n",
    "    print(f'The change in close price: {percentage_difference}% \\n')\n",
    "    print('Relevant News: \\n')\n",
    "    for message in messages:\n",
    "        print(message)"
   ]
  },
  {
   "cell_type": "markdown",
   "metadata": {},
   "source": [
    "MSM API: https://www.twilio.com/try-twilio"
   ]
  },
  {
   "cell_type": "code",
   "execution_count": null,
   "metadata": {},
   "outputs": [],
   "source": []
  }
 ],
 "metadata": {
  "kernelspec": {
   "display_name": "Python 3",
   "language": "python",
   "name": "python3"
  },
  "language_info": {
   "codemirror_mode": {
    "name": "ipython",
    "version": 3
   },
   "file_extension": ".py",
   "mimetype": "text/x-python",
   "name": "python",
   "nbconvert_exporter": "python",
   "pygments_lexer": "ipython3",
   "version": "3.8.5"
  }
 },
 "nbformat": 4,
 "nbformat_minor": 4
}
